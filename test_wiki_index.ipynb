{
 "cells": [
  {
   "cell_type": "code",
   "id": "initial_id",
   "metadata": {
    "ExecuteTime": {
     "end_time": "2025-07-08T16:18:52.582606Z",
     "start_time": "2025-07-08T16:18:52.580271Z"
    }
   },
   "source": [
    "from document_constrained_generation_causal_qwen import IndexBasedLogitsProcessor\n",
    "from transformers import AutoModelForCausalLM, AutoTokenizer, LogitsProcessorList\n",
    "from index import FMIndex\n",
    "import torch"
   ],
   "outputs": [],
   "execution_count": 5
  },
  {
   "cell_type": "code",
   "id": "b750af9f23dc3fb5",
   "metadata": {
    "ExecuteTime": {
     "end_time": "2025-07-08T16:13:33.070678Z",
     "start_time": "2025-07-08T16:13:33.067473Z"
    }
   },
   "source": [
    "index_dir = 'data/enwiki.qwen3_8b.fm_index'"
   ],
   "outputs": [],
   "execution_count": 2
  },
  {
   "cell_type": "code",
   "id": "242d25cc0aaa5bf8",
   "metadata": {
    "ExecuteTime": {
     "end_time": "2025-07-08T16:18:36.178887Z",
     "start_time": "2025-07-08T16:13:35.323653Z"
    }
   },
   "source": [
    "index = FMIndex.load(index_dir)"
   ],
   "outputs": [],
   "execution_count": 3
  },
  {
   "cell_type": "code",
   "id": "e4ab8b5b-e77f-4b79-b48a-008eb6ac107b",
   "metadata": {
    "ExecuteTime": {
     "end_time": "2025-07-08T16:19:38.626390Z",
     "start_time": "2025-07-08T16:18:55.079121Z"
    }
   },
   "source": [
    "model_name = \"Qwen/Qwen3-8B\"\n",
    "tokenizer = AutoTokenizer.from_pretrained(model_name)\n",
    "model = AutoModelForCausalLM.from_pretrained(model_name, torch_dtype=torch.float16)"
   ],
   "outputs": [
    {
     "data": {
      "text/plain": [
       "Loading checkpoint shards:   0%|          | 0/5 [00:00<?, ?it/s]"
      ],
      "application/vnd.jupyter.widget-view+json": {
       "version_major": 2,
       "version_minor": 0,
       "model_id": "48ab1878c8cf472c973e2915902014c7"
      }
     },
     "metadata": {},
     "output_type": "display_data"
    }
   ],
   "execution_count": 6
  },
  {
   "cell_type": "code",
   "id": "ca5df913-8935-42e5-bd8c-dd006e7f52f8",
   "metadata": {
    "ExecuteTime": {
     "end_time": "2025-07-08T16:21:03.383508Z",
     "start_time": "2025-07-08T16:21:03.380320Z"
    }
   },
   "source": "from document_constrained_generation_causal_qwen import IndexBasedLogitsProcessor",
   "outputs": [],
   "execution_count": 8
  },
  {
   "cell_type": "code",
   "id": "3d68d469-4d34-4ff6-b8cd-b7c222e5cbaf",
   "metadata": {
    "ExecuteTime": {
     "end_time": "2025-07-08T17:35:00.675774Z",
     "start_time": "2025-07-08T17:35:00.529102Z"
    }
   },
   "source": [
    "prompt = f\"What is the greek goddess of beauty? /no_think\"\n",
    "messages = [\n",
    "    {\"role\": \"user\", \"content\": prompt}\n",
    "]\n",
    "\n",
    "text = tokenizer.apply_chat_template(\n",
    "    messages,\n",
    "    tokenize=False,\n",
    "    add_generation_prompt=True,\n",
    "    enable_thinking=True\n",
    ")\n",
    "input_ids = tokenizer([text], return_tensors=\"pt\").to(model.device)"
   ],
   "outputs": [],
   "execution_count": 9
  },
  {
   "metadata": {
    "ExecuteTime": {
     "end_time": "2025-07-08T19:38:45.481729Z",
     "start_time": "2025-07-08T17:35:08.007316Z"
    }
   },
   "cell_type": "code",
   "source": [
    "out_ids = model.generate(**input_ids, max_new_tokens=50, min_new_tokens=10, do_sample=False, num_beams=2,\n",
    "                              logits_processor=LogitsProcessorList([IndexBasedLogitsProcessor(\n",
    "                                    num_beams=2,\n",
    "                                    min_new_tokens=10,\n",
    "                                    index=index,\n",
    "                                    model_name=model_name,\n",
    "                                    pad_token_id=model.config.pad_token_id,\n",
    "                                    eos_token_id=tokenizer.eos_token_id,\n",
    "                                    force_decoding_from=None,\n",
    "                                    stop_at_count=0,\n",
    "                                    always_allow_eos=True,\n",
    "                                    forced_bos_token_id=None,\n",
    "                                    length_reward_factor=1\n",
    "                                )]),\n",
    "                              temperature=None, top_p=None, top_k=None)"
   ],
   "id": "6c6ca8d83f4ac172",
   "outputs": [],
   "execution_count": null
  },
  {
   "metadata": {},
   "cell_type": "code",
   "outputs": [],
   "execution_count": null,
   "source": [
    "gen_output = tokenizer.batch_decode(out_ids, skip_special_tokens=True,\n",
    "                                         clean_up_tokenization_spaces=False)\n",
    "# print(out_ids)\n",
    "print(gen_output)"
   ],
   "id": "3c0450303b9568e"
  }
 ],
 "metadata": {
  "kernelspec": {
   "display_name": "Dissertation Python 3.11",
   "language": "python",
   "name": "dissertation-py311"
  },
  "language_info": {
   "codemirror_mode": {
    "name": "ipython",
    "version": 3
   },
   "file_extension": ".py",
   "mimetype": "text/x-python",
   "name": "python",
   "nbconvert_exporter": "python",
   "pygments_lexer": "ipython3",
   "version": "3.11.6"
  }
 },
 "nbformat": 4,
 "nbformat_minor": 5
}
